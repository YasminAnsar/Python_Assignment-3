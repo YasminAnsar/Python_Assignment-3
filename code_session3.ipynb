{
 "cells": [
  {
   "cell_type": "markdown",
   "metadata": {},
   "source": [
    "Question #1: Write a program that reads an integer from the user. Then your program should\n",
    "display a message indicating whether the integer is even or odd and if the number is a prime or a non-prime."
   ]
  },
  {
   "cell_type": "code",
   "execution_count": 107,
   "metadata": {},
   "outputs": [
    {
     "name": "stdout",
     "output_type": "stream",
     "text": [
      "3 is odd and a prime number\n"
     ]
    }
   ],
   "source": [
    "number = int(input(\"Enter the number: \"))\n",
    "\n",
    "if (number%2 == 0 and number == 2):\n",
    "    print(f\"{number} is even and prime number\")\n",
    "elif(number%2 == 0):\n",
    "    print(f\"{number} is even and Non-prime number\")\n",
    "elif (number%2 != 0):\n",
    "    for i in range(2, number):\n",
    "        if number % i == 0:\n",
    "            print(f\"{number} is odd and a Non-prime number\")\n",
    "            break\n",
    "    else:\n",
    "        print(f\"{number} is odd and a prime number\")\n"
   ]
  },
  {
   "cell_type": "markdown",
   "metadata": {},
   "source": [
    "Question #2: Write a program that computes the real roots of a quadratic function. Your program\n",
    "should begin by prompting the user for the values of a, b and c. Then it should display\n",
    "a message indicating the number of real roots, along with the values of the real roots\n",
    "(if any)."
   ]
  },
  {
   "cell_type": "code",
   "execution_count": 56,
   "metadata": {},
   "outputs": [
    {
     "name": "stdout",
     "output_type": "stream",
     "text": [
      "9568.0\n",
      "Root1 = -0.28; Root2 = -293.72\n"
     ]
    }
   ],
   "source": [
    "import math\n",
    "a = float(input(\"Enter the value of a: \"))\n",
    "b = float(input(\"Enter the value of b: \"))\n",
    "c = float(input(\"Enter the value of c: \"))\n",
    "# Part of formula for calculating root \n",
    "d = b**2 - 4*a*c\n",
    "# Conditions for calculating roots and printing the outputs\n",
    "if d > 0:\n",
    "    root1 = (-b + math.sqrt(d))/2*a\n",
    "    root2 = (-b - math.sqrt(d))/2*a\n",
    "    print(\"Root1 = %.2f; Root2 = %.2f\" %(root1, root2))\n",
    "elif d == 0:\n",
    "    root1 = -b/2*a\n",
    "    print(\"Root1 %.2f\" %(root1))\n",
    "else:\n",
    "    print(\"It has no roots\")"
   ]
  },
  {
   "cell_type": "markdown",
   "metadata": {},
   "source": [
    "Question #3: In this exercise, you will create a program that computes the average of a collection\n",
    "of values entered by the user. The user will enter 0 as a sentinel value to indicate\n",
    "that no further values will be provided. Your program should display an appropriate\n",
    "error message if the first value entered by the user is 0."
   ]
  },
  {
   "cell_type": "code",
   "execution_count": 67,
   "metadata": {},
   "outputs": [
    {
     "name": "stdout",
     "output_type": "stream",
     "text": [
      "Average of the given numbers is 34.0\n"
     ]
    }
   ],
   "source": [
    "#Defining a function for calculating average\n",
    "def avg(mycollection):\n",
    "    average = 0 if len(mycollection) == 0 else round((sum(mycollection)/len(mycollection)), 2) \n",
    "    return (f\"Average of the given numbers is {average}\")\n",
    "#An empty list that will hold values from user\n",
    "mycollection = []\n",
    "user_input = int(input(\"Enter the value and 0 to exit: \"))\n",
    "if (user_input == 0):\n",
    "    print(\"Sorry wrong start: Try again with number other than '0'\")\n",
    "else:\n",
    "    while (user_input != 0):\n",
    "        mycollection.append(user_input)\n",
    "        user_input = int(input(\"Enter the value and 0 to exit: \"))\n",
    "print(avg(mycollection))\n"
   ]
  },
  {
   "cell_type": "markdown",
   "metadata": {},
   "source": [
    "Question #4: Write a program that displays a temperature conversion table for degrees Celsius and\n",
    "degrees Fahrenheit. The table should include rows for all temperatures between 0\n",
    "and 100 degrees Celsius which are multiples of 10 degrees Celsius. Include appropriate\n",
    "headings on your columns. The formula for converting between degrees Celsius and\n",
    "degrees Fahrenheit can be found on the internet."
   ]
  },
  {
   "cell_type": "code",
   "execution_count": 65,
   "metadata": {},
   "outputs": [
    {
     "name": "stdout",
     "output_type": "stream",
     "text": [
      "    Celcius  Fahrenheit\n",
      "0         0          32\n",
      "1        10          50\n",
      "2        20          68\n",
      "3        30          86\n",
      "4        40         104\n",
      "5        50         122\n",
      "6        60         140\n",
      "7        70         158\n",
      "8        80         176\n",
      "9        90         194\n",
      "10      100         212\n"
     ]
    }
   ],
   "source": [
    "import numpy as np\n",
    "import pandas as pd\n",
    "def c_to_f(Celcius):\n",
    "    fahrenheit = round(float((Celcius * 9/5) + 32))\n",
    "    return fahrenheit\n",
    "#initialize list of values ranging from 0 through 100 multiple of 10\n",
    "celcius_list = np.arange(0,110,10)    #np.arrange(start,stop,step) creates an array by taking start,stop and step values\n",
    "fahrenheit = []\n",
    "for i in range(len(celcius_list)):\n",
    "    fahrenheit.append(c_to_f(celcius_list[i]))\n",
    "#Create DataFrame with column names \"Celcius\" and   \"Fahrenheit\"\n",
    "df = pd.DataFrame({'Celcius': celcius_list,'Fahrenheit': fahrenheit})\n",
    "#prit dataframe\n",
    "print(df)"
   ]
  },
  {
   "cell_type": "markdown",
   "metadata": {},
   "source": [
    "Question #5: A particular zoo determines the price of admission based on the age of the guest.\n",
    "Guests 2 years of age and less are admitted without charge. Children between 3 and\n",
    "12 years of age cost $14.00. Seniors aged 65 years and over cost $18.00. Admission\n",
    "for all other guests is $23.00.\n",
    "Create a program that begins by reading the ages of all of the guests in a group\n",
    "from the user, with one age entered on each line. The user will enter a blank line to\n",
    "indicate that there are no more guests in the group. Then your program should display\n",
    "the admission cost for the group with an appropriate message. The cost should be\n",
    "displayed using two decimal places."
   ]
  },
  {
   "cell_type": "code",
   "execution_count": 70,
   "metadata": {},
   "outputs": [
    {
     "name": "stdout",
     "output_type": "stream",
     "text": [
      "Your have to pay for the ages [2, 6, 9, 37, 41] to enter in the zoo is $74.0\n"
     ]
    }
   ],
   "source": [
    "group_ages = []\n",
    "charge = 0\n",
    "age = int(input(\"Please enter your age and if want to exit then enter -1: \"))\n",
    "while age != -1:\n",
    "    group_ages.append(age)\n",
    "    if age > 0  and age <= 2:\n",
    "        charge += 0\n",
    "    elif age >= 3 and age <= 12:\n",
    "        charge += 14.00\n",
    "    elif age >= 65:\n",
    "        charge += 18.00\n",
    "    else:\n",
    "        charge += 23.00\n",
    "    age = int(input(\"Please enter your ageand if want to exit then enter -1: \"))\n",
    "print(f\"Your have to pay for the ages {group_ages} to enter in the zoo is ${charge}\")\n"
   ]
  },
  {
   "cell_type": "markdown",
   "metadata": {},
   "source": [
    "Question #6: Write a function that takes the lengths of the two shorter sides of a right triangle as\n",
    "its parameters. Return the hypotenuse of the triangle, computed using the Pythagorean\n",
    "theorem, as the function’s result. Include inputs that read the lengths of\n",
    "the shorter sides of a right triangle from the user, use your function to compute the\n",
    "length of the hypotenuse, and display the result."
   ]
  },
  {
   "cell_type": "code",
   "execution_count": 73,
   "metadata": {},
   "outputs": [
    {
     "data": {
      "text/plain": [
       "'The hypotenue of the right trianl=gle of sides 2 and 5 are 5.39'"
      ]
     },
     "execution_count": 73,
     "metadata": {},
     "output_type": "execute_result"
    }
   ],
   "source": [
    "import math\n",
    "side1 = int(input(\"Enter the length of side 1: \"))\n",
    "side2 = int(input(\"Enter the length of side 2: \"))\n",
    "\n",
    "def hypotenuse_calc(side1,side2):\n",
    "    hypotenuse = round(math.sqrt(side1**2 + side2**2),2)\n",
    "    return (f\"The hypotenue of the right trianl=gle of sides {side1} and {side2} are {hypotenuse}\")\n",
    "hypotenuse_calc(side1,side2)"
   ]
  },
  {
   "cell_type": "markdown",
   "metadata": {},
   "source": [
    "Question #7: An online retailer provides express shipping for many of its items at a rate of $10.95\n",
    "for the first item, and $2.95 for each subsequent item. Write a function that takes the\n",
    "number of items in the order as its only parameter. Return the shipping charge for\n",
    "the order as the function’s result. Include user inputs that read the number of\n",
    "items purchased from the user and display the shipping charge."
   ]
  },
  {
   "cell_type": "code",
   "execution_count": 72,
   "metadata": {},
   "outputs": [
    {
     "name": "stdout",
     "output_type": "stream",
     "text": [
      " The shipping charges for 6 items are $25.7\n"
     ]
    }
   ],
   "source": [
    "#Taking user input for number of items\n",
    "items = int(input(\"Please enter the number of items in your order: \"))\n",
    "#Function for calculating shipping charge \n",
    "def charge_calc(items):\n",
    "   fixed_charge = 10.95\n",
    "   subsequent_charge = 2.95\n",
    "   result  = round(fixed_charge + (items-1)*subsequent_charge,2)\n",
    "   print(f\" The shipping charges for {items} items are ${result}\")\n",
    "#Calling the function\n",
    "charge_calc(items)"
   ]
  },
  {
   "cell_type": "markdown",
   "metadata": {},
   "source": [
    "Question #8: In this exercise, you will write a function that determines whether or not a password\n",
    "is good. We will define a good password to be one that is at least 8 characters\n",
    "long and contains at least one uppercase letter, at least one lowercase letter, and at\n",
    "least one number. Your function should return true if the password passed to it as\n",
    "its only parameter is good. Otherwise, it should return false. "
   ]
  },
  {
   "cell_type": "code",
   "execution_count": 48,
   "metadata": {},
   "outputs": [
    {
     "data": {
      "text/plain": [
       "'It is a strong password'"
      ]
     },
     "execution_count": 48,
     "metadata": {},
     "output_type": "execute_result"
    }
   ],
   "source": [
    "#Declaring a password check funtion to check if its meeting the desire requiremnts or not\n",
    "\n",
    "def password_check(password):\n",
    "    #Declaring variable and setting them to False \n",
    "    psw_length = False\n",
    "    psw_lower = False\n",
    "    psw_upper = False\n",
    "    psw_digit = False\n",
    "    #If stament to chekc if length of password is desired length\n",
    "    if len(password) >= 8:\n",
    "        psw_length = True\n",
    "    #For loop to check if any one of the charter is uppercase , lowercase,and a digit\n",
    "    for i in password:\n",
    "        if i.islower():\n",
    "            psw_lower = True\n",
    "        elif i.isupper():\n",
    "            psw_upper = True\n",
    "        elif i.isdigit():\n",
    "            psw_digit = True\n",
    "    #If stament that checks if all the variable are true then it will retirn true otherwise it will return false\n",
    "    if (psw_length == True and psw_lower == True and psw_upper == True and psw_digit == True):\n",
    "        return True\n",
    "    else: \n",
    "        return False\n",
    "\n",
    "#Definging a main function that will call this passweord_check function\n",
    "def main():\n",
    "    password = input(\"Please enter the password: \")\n",
    "    if password_check(password):\n",
    "        return (\"It is a strong password\")\n",
    "    else:\n",
    "        return (\"It is a weak password\")\n",
    "\n",
    "#Calling the main funtion\n",
    "main()\n"
   ]
  }
 ],
 "metadata": {
  "kernelspec": {
   "display_name": "Python 3.11.0 64-bit",
   "language": "python",
   "name": "python3"
  },
  "language_info": {
   "codemirror_mode": {
    "name": "ipython",
    "version": 3
   },
   "file_extension": ".py",
   "mimetype": "text/x-python",
   "name": "python",
   "nbconvert_exporter": "python",
   "pygments_lexer": "ipython3",
   "version": "3.11.0"
  },
  "orig_nbformat": 4,
  "vscode": {
   "interpreter": {
    "hash": "abf1935dff6ce16d1bc561b786c949d1ee9a2c144cfe4d8a7134240bf2a33342"
   }
  }
 },
 "nbformat": 4,
 "nbformat_minor": 2
}
